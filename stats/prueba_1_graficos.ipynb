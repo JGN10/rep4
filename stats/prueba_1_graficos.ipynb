{
 "cells": [
  {
   "cell_type": "code",
   "execution_count": 1,
   "id": "8854968c",
   "metadata": {},
   "outputs": [],
   "source": [
    "# pip install scipy"
   ]
  },
  {
   "cell_type": "code",
   "execution_count": 2,
   "id": "a081eac5",
   "metadata": {},
   "outputs": [],
   "source": [
    "# pip install statsmodels"
   ]
  },
  {
   "cell_type": "code",
   "execution_count": 2,
   "id": "d4ef3f23",
   "metadata": {},
   "outputs": [],
   "source": [
    "import pandas as pd\n",
    "import numpy as np\n",
    "\n",
    "# Preprocesado y análisis\n",
    "# ===================================================================================================\n",
    "import statsmodels.api as sm\n",
    "from scipy import stats\n",
    "\n",
    "# Gráficos\n",
    "# ===================================================================================================\n",
    "import matplotlib.pyplot as plt"
   ]
  },
  {
   "cell_type": "markdown",
   "id": "2b17f73c",
   "metadata": {},
   "source": [
    "# Ejemplo 1: Notas"
   ]
  },
  {
   "cell_type": "code",
   "execution_count": 3,
   "id": "cdc09c94",
   "metadata": {},
   "outputs": [
    {
     "data": {
      "text/html": [
       "<div>\n",
       "<style scoped>\n",
       "    .dataframe tbody tr th:only-of-type {\n",
       "        vertical-align: middle;\n",
       "    }\n",
       "\n",
       "    .dataframe tbody tr th {\n",
       "        vertical-align: top;\n",
       "    }\n",
       "\n",
       "    .dataframe thead th {\n",
       "        text-align: right;\n",
       "    }\n",
       "</style>\n",
       "<table border=\"1\" class=\"dataframe\">\n",
       "  <thead>\n",
       "    <tr style=\"text-align: right;\">\n",
       "      <th></th>\n",
       "      <th>notas_1</th>\n",
       "      <th>notas_2</th>\n",
       "      <th>notas_3</th>\n",
       "    </tr>\n",
       "  </thead>\n",
       "  <tbody>\n",
       "    <tr>\n",
       "      <th>0</th>\n",
       "      <td>15</td>\n",
       "      <td>16</td>\n",
       "      <td>17</td>\n",
       "    </tr>\n",
       "    <tr>\n",
       "      <th>1</th>\n",
       "      <td>16</td>\n",
       "      <td>21</td>\n",
       "      <td>22</td>\n",
       "    </tr>\n",
       "    <tr>\n",
       "      <th>2</th>\n",
       "      <td>15</td>\n",
       "      <td>16</td>\n",
       "      <td>15</td>\n",
       "    </tr>\n",
       "    <tr>\n",
       "      <th>3</th>\n",
       "      <td>17</td>\n",
       "      <td>16</td>\n",
       "      <td>22</td>\n",
       "    </tr>\n",
       "    <tr>\n",
       "      <th>4</th>\n",
       "      <td>14</td>\n",
       "      <td>13</td>\n",
       "      <td>14</td>\n",
       "    </tr>\n",
       "  </tbody>\n",
       "</table>\n",
       "</div>"
      ],
      "text/plain": [
       "   notas_1  notas_2  notas_3\n",
       "0       15       16       17\n",
       "1       16       21       22\n",
       "2       15       16       15\n",
       "3       17       16       22\n",
       "4       14       13       14"
      ]
     },
     "execution_count": 3,
     "metadata": {},
     "output_type": "execute_result"
    }
   ],
   "source": [
    "df = pd.DataFrame({\"notas_1\": [15, 16, 15, 17, 14, 14, 14, 10, 15, 25],\n",
    "                   \"notas_2\": [16, 21, 16, 16, 13, 15, 15, 19, 22, 15],\n",
    "                   \"notas_3\": [17, 22, 15, 22, 14, 15, 16, 15, 24, 16]})\n",
    "df.head()"
   ]
  },
  {
   "cell_type": "markdown",
   "id": "b8d4d91a",
   "metadata": {},
   "source": [
    "## Tendencia Central"
   ]
  },
  {
   "cell_type": "markdown",
   "id": "599e5f09",
   "metadata": {},
   "source": [
    "**Media**"
   ]
  },
  {
   "cell_type": "markdown",
   "id": "c42db924",
   "metadata": {},
   "source": [
    "Como calcular la media de las distintas notas:"
   ]
  },
  {
   "cell_type": "code",
   "execution_count": 4,
   "id": "617119d4",
   "metadata": {},
   "outputs": [
    {
     "data": {
      "text/plain": [
       "15.5"
      ]
     },
     "execution_count": 4,
     "metadata": {},
     "output_type": "execute_result"
    }
   ],
   "source": [
    "media_1 = df[\"notas_1\"].mean()\n",
    "media_1"
   ]
  },
  {
   "cell_type": "code",
   "execution_count": 5,
   "id": "51a68bbf",
   "metadata": {},
   "outputs": [
    {
     "data": {
      "text/plain": [
       "16.8"
      ]
     },
     "execution_count": 5,
     "metadata": {},
     "output_type": "execute_result"
    }
   ],
   "source": [
    "media_2 = df[\"notas_2\"].mean()\n",
    "media_2"
   ]
  },
  {
   "cell_type": "code",
   "execution_count": 6,
   "id": "25922a94",
   "metadata": {},
   "outputs": [
    {
     "data": {
      "text/plain": [
       "17.6"
      ]
     },
     "execution_count": 6,
     "metadata": {},
     "output_type": "execute_result"
    }
   ],
   "source": [
    "media_3 = df[\"notas_3\"].mean()\n",
    "media_3"
   ]
  },
  {
   "cell_type": "markdown",
   "id": "35880007",
   "metadata": {},
   "source": [
    "**Mediana**"
   ]
  },
  {
   "cell_type": "markdown",
   "id": "23018f05",
   "metadata": {},
   "source": [
    "Como calcular la mediana de las distintas notas:"
   ]
  },
  {
   "cell_type": "code",
   "execution_count": 7,
   "id": "e42bd1e3",
   "metadata": {},
   "outputs": [
    {
     "data": {
      "text/plain": [
       "15.0"
      ]
     },
     "execution_count": 7,
     "metadata": {},
     "output_type": "execute_result"
    }
   ],
   "source": [
    "mediana_1 = df[\"notas_1\"].median()\n",
    "mediana_1"
   ]
  },
  {
   "cell_type": "code",
   "execution_count": 8,
   "id": "6eefe528",
   "metadata": {},
   "outputs": [
    {
     "data": {
      "text/plain": [
       "16.0"
      ]
     },
     "execution_count": 8,
     "metadata": {},
     "output_type": "execute_result"
    }
   ],
   "source": [
    "mediana_2 = df[\"notas_2\"].median()\n",
    "mediana_2"
   ]
  },
  {
   "cell_type": "code",
   "execution_count": 9,
   "id": "1fbf85a8",
   "metadata": {},
   "outputs": [
    {
     "data": {
      "text/plain": [
       "16.0"
      ]
     },
     "execution_count": 9,
     "metadata": {},
     "output_type": "execute_result"
    }
   ],
   "source": [
    "mediana_3 = df[\"notas_3\"].median()\n",
    "mediana_3"
   ]
  },
  {
   "cell_type": "markdown",
   "id": "7be6d4ea",
   "metadata": {},
   "source": [
    "**Moda**"
   ]
  },
  {
   "cell_type": "markdown",
   "id": "605570c9",
   "metadata": {},
   "source": [
    "Como calcular la moda de las distintas notas:"
   ]
  },
  {
   "cell_type": "code",
   "execution_count": 10,
   "id": "247c3945",
   "metadata": {},
   "outputs": [
    {
     "data": {
      "text/plain": [
       "0    14\n",
       "1    15\n",
       "Name: notas_1, dtype: int64"
      ]
     },
     "execution_count": 10,
     "metadata": {},
     "output_type": "execute_result"
    }
   ],
   "source": [
    "moda_1 = df[\"notas_1\"].mode()\n",
    "moda_1"
   ]
  },
  {
   "cell_type": "code",
   "execution_count": 11,
   "id": "0b113cc1",
   "metadata": {},
   "outputs": [
    {
     "data": {
      "text/plain": [
       "0    15\n",
       "1    16\n",
       "Name: notas_2, dtype: int64"
      ]
     },
     "execution_count": 11,
     "metadata": {},
     "output_type": "execute_result"
    }
   ],
   "source": [
    "moda_2 = df[\"notas_2\"].mode()\n",
    "moda_2"
   ]
  },
  {
   "cell_type": "code",
   "execution_count": 12,
   "id": "6f306939",
   "metadata": {},
   "outputs": [
    {
     "data": {
      "text/plain": [
       "0    15\n",
       "Name: notas_3, dtype: int64"
      ]
     },
     "execution_count": 12,
     "metadata": {},
     "output_type": "execute_result"
    }
   ],
   "source": [
    "moda_3 = df[\"notas_3\"].mode()\n",
    "moda_3"
   ]
  },
  {
   "cell_type": "markdown",
   "id": "5e4d43b2",
   "metadata": {},
   "source": [
    "**Resultados Nota_1:**"
   ]
  },
  {
   "cell_type": "code",
   "execution_count": 13,
   "id": "3e2e86ab",
   "metadata": {},
   "outputs": [
    {
     "name": "stdout",
     "output_type": "stream",
     "text": [
      "Media: 15.5, Mediana: 15.0, Moda: \n",
      "0    14\n",
      "1    15\n",
      "Name: notas_1, dtype: int64\n"
     ]
    }
   ],
   "source": [
    "print(f\"Media: {media_1}, Mediana: {mediana_1}, Moda: \\n{moda_1}\")"
   ]
  },
  {
   "cell_type": "markdown",
   "id": "8365448e",
   "metadata": {},
   "source": [
    "**Resultados Nota_2:**"
   ]
  },
  {
   "cell_type": "code",
   "execution_count": 14,
   "id": "69d17053",
   "metadata": {},
   "outputs": [
    {
     "name": "stdout",
     "output_type": "stream",
     "text": [
      "Media: 16.8, Mediana: 16.0, Moda: \n",
      "0    15\n",
      "1    16\n",
      "Name: notas_2, dtype: int64\n"
     ]
    }
   ],
   "source": [
    "print(f\"Media: {media_2}, Mediana: {mediana_2}, Moda: \\n{moda_2}\")"
   ]
  },
  {
   "cell_type": "markdown",
   "id": "cb503bc8",
   "metadata": {},
   "source": [
    "**Resultados Nota_2:**"
   ]
  },
  {
   "cell_type": "code",
   "execution_count": 15,
   "id": "6fea7d38",
   "metadata": {},
   "outputs": [
    {
     "name": "stdout",
     "output_type": "stream",
     "text": [
      "Media: 17.6, Mediana: 16.0, Moda: \n",
      "0    15\n",
      "Name: notas_3, dtype: int64\n"
     ]
    }
   ],
   "source": [
    "print(f\"Media: {media_3}, Mediana: {mediana_3}, Moda: \\n{moda_3}\")"
   ]
  },
  {
   "cell_type": "markdown",
   "id": "fc1d64d9",
   "metadata": {},
   "source": [
    "# RESUMEN"
   ]
  },
  {
   "cell_type": "raw",
   "id": "8f8e0712",
   "metadata": {},
   "source": [
    "                        Notas 1                             Notas 2                       Notas 3"
   ]
  },
  {
   "cell_type": "raw",
   "id": "8a1faea0",
   "metadata": {},
   "source": [
    "Media                    15.5                                16.8                           17.6"
   ]
  },
  {
   "cell_type": "raw",
   "id": "9c189f5a",
   "metadata": {},
   "source": [
    "Mediana                  15.0                                16.0                           16.0"
   ]
  },
  {
   "cell_type": "raw",
   "id": "ab63cd74",
   "metadata": {},
   "source": [
    "Moda                     14/15                               15/16                          15.0"
   ]
  },
  {
   "cell_type": "markdown",
   "id": "c5d5fb29",
   "metadata": {},
   "source": [
    "# Histograma y Curva Normal"
   ]
  },
  {
   "cell_type": "markdown",
   "id": "4b8137cc",
   "metadata": {},
   "source": [
    "**Notas 1**"
   ]
  },
  {
   "cell_type": "code",
   "execution_count": 16,
   "id": "008224a3",
   "metadata": {},
   "outputs": [
    {
     "data": {
      "text/plain": [
       "0    15\n",
       "1    16\n",
       "2    15\n",
       "3    17\n",
       "4    14\n",
       "5    14\n",
       "6    14\n",
       "7    10\n",
       "8    15\n",
       "9    25\n",
       "Name: notas_1, dtype: int64"
      ]
     },
     "execution_count": 16,
     "metadata": {},
     "output_type": "execute_result"
    }
   ],
   "source": [
    "notas_1 = df[\"notas_1\"]\n",
    "notas_1"
   ]
  },
  {
   "cell_type": "code",
   "execution_count": 17,
   "id": "06f9743d",
   "metadata": {},
   "outputs": [
    {
     "data": {
      "image/png": "[encoded data removed]",
      "text/plain": [
       "<Figure size 504x288 with 1 Axes>"
      ]
     },
     "metadata": {
      "needs_background": "light"
     },
     "output_type": "display_data"
    }
   ],
   "source": [
    "# Histograma + curva normal teórica\n",
    "# =========================================================================================\n",
    "\n",
    "# valores de la media (mu) y desviación típica (sigma) de los datos\n",
    "mu, sigma = stats.norm.fit(notas_1)\n",
    "\n",
    "# Valores teóricos de la normal en el rango observado\n",
    "x_hat = np.linspace(min(notas_1), max(notas_1), num=100)\n",
    "y_hat = stats.norm.pdf(x_hat, mu, sigma)\n",
    "\n",
    "# Gráfico\n",
    "fig, ax = plt.subplots(figsize=(7, 4))\n",
    "ax.plot(x_hat, y_hat, linewidth=2, label=\"normal\")\n",
    "# ax.hist(x=notas_1, density=True, bins=30, color=\"#3182bd\", alpha=0.5)\n",
    "ax.plot(notas_1, np.full_like(notas_1, -0.01), \"|k\", markeredgewidth=1)\n",
    "ax.set_title(\"Distribución Notas 1\")\n",
    "ax.set_xlabel(\"Valores\")\n",
    "ax.set_ylabel(\"Densidad de probabilidad\")\n",
    "ax.legend()\n",
    "plt.show()"
   ]
  },
  {
   "cell_type": "markdown",
   "id": "35594c2c",
   "metadata": {},
   "source": [
    "**Notas 2**"
   ]
  },
  {
   "cell_type": "code",
   "execution_count": 18,
   "id": "0fa6c9ba",
   "metadata": {},
   "outputs": [
    {
     "data": {
      "text/plain": [
       "0    16\n",
       "1    21\n",
       "2    16\n",
       "3    16\n",
       "4    13\n",
       "5    15\n",
       "6    15\n",
       "7    19\n",
       "8    22\n",
       "9    15\n",
       "Name: notas_2, dtype: int64"
      ]
     },
     "execution_count": 18,
     "metadata": {},
     "output_type": "execute_result"
    }
   ],
   "source": [
    "notas_2 = df[\"notas_2\"]\n",
    "notas_2"
   ]
  },
  {
   "cell_type": "code",
   "execution_count": 19,
   "id": "383c4f68",
   "metadata": {},
   "outputs": [
    {
     "data": {
      "image/png": "[encoded data removed]",
      "text/plain": [
       "<Figure size 504x288 with 1 Axes>"
      ]
     },
     "metadata": {
      "needs_background": "light"
     },
     "output_type": "display_data"
    }
   ],
   "source": [
    "# Histograma + curva normal teórica\n",
    "# =========================================================================================\n",
    "\n",
    "# valores de la media (mu) y desviación típica (sigma) de los datos\n",
    "mu, sigma = stats.norm.fit(notas_2)\n",
    "\n",
    "# Valores teóricos de la normal en el rango observado\n",
    "x_hat = np.linspace(min(notas_2), max(notas_2), num=100)\n",
    "y_hat = stats.norm.pdf(x_hat, mu, sigma)\n",
    "\n",
    "# Gráfico\n",
    "fig, ax = plt.subplots(figsize=(7, 4))\n",
    "ax.plot(x_hat, y_hat, linewidth=2, label=\"normal\")\n",
    "#ax.hist(x=notas_2, density=True, bins=30, color=\"#3182bd\", alpha=0.5)\n",
    "ax.plot(notas_2, np.full_like(notas_2, -0.01), \"|k\", markeredgewidth=1)\n",
    "ax.set_title(\"Distribución Notas 2\")\n",
    "ax.set_xlabel(\"Valores\")\n",
    "ax.set_ylabel(\"Densidad de probabilidad\")\n",
    "ax.legend()\n",
    "plt.show()"
   ]
  },
  {
   "cell_type": "markdown",
   "id": "ba91aa85",
   "metadata": {},
   "source": [
    "**Notas 3**"
   ]
  },
  {
   "cell_type": "code",
   "execution_count": 20,
   "id": "4e04b0f9",
   "metadata": {},
   "outputs": [
    {
     "data": {
      "text/plain": [
       "0    17\n",
       "1    22\n",
       "2    15\n",
       "3    22\n",
       "4    14\n",
       "5    15\n",
       "6    16\n",
       "7    15\n",
       "8    24\n",
       "9    16\n",
       "Name: notas_3, dtype: int64"
      ]
     },
     "execution_count": 20,
     "metadata": {},
     "output_type": "execute_result"
    }
   ],
   "source": [
    "notas_3 = df[\"notas_3\"]\n",
    "notas_3"
   ]
  },
  {
   "cell_type": "code",
   "execution_count": 21,
   "id": "9b5230d3",
   "metadata": {},
   "outputs": [
    {
     "data": {
      "image/png": "[encoded data removed]",
      "text/plain": [
       "<Figure size 504x288 with 1 Axes>"
      ]
     },
     "metadata": {
      "needs_background": "light"
     },
     "output_type": "display_data"
    }
   ],
   "source": [
    "# Histograma + curva normal teórica\n",
    "# =========================================================================================\n",
    "\n",
    "# valores de la media (mu) y desviación típica (sigma) de los datos\n",
    "mu, sigma = stats.norm.fit(notas_3)\n",
    "\n",
    "# Valores teóricos de la normal en el rango observado\n",
    "x_hat = np.linspace(min(notas_3), max(notas_3), num=100)\n",
    "y_hat = stats.norm.pdf(x_hat, mu, sigma)\n",
    "\n",
    "# Gráfico\n",
    "fig, ax = plt.subplots(figsize=(7, 4))\n",
    "ax.plot(x_hat, y_hat, linewidth=2, label=\"normal\")\n",
    "#ax.hist(x=notas_3, density=True, bins=30, color=\"#3182bd\", alpha=0.5)\n",
    "ax.plot(notas_3, np.full_like(notas_3, -0.01), \"|k\", markeredgewidth=1)\n",
    "ax.set_title(\"Distribución Notas 3\")\n",
    "ax.set_xlabel(\"Valores\")\n",
    "ax.set_ylabel(\"Densidad de probabilidad\")\n",
    "ax.legend()\n",
    "plt.show()"
   ]
  },
  {
   "cell_type": "markdown",
   "id": "ddade174",
   "metadata": {},
   "source": [
    "# Ejemplo 2: Beneficios de una empresa"
   ]
  },
  {
   "cell_type": "code",
   "execution_count": 38,
   "id": "2e20adff",
   "metadata": {},
   "outputs": [
    {
     "data": {
      "text/html": [
       "<div>\n",
       "<style scoped>\n",
       "    .dataframe tbody tr th:only-of-type {\n",
       "        vertical-align: middle;\n",
       "    }\n",
       "\n",
       "    .dataframe tbody tr th {\n",
       "        vertical-align: top;\n",
       "    }\n",
       "\n",
       "    .dataframe thead th {\n",
       "        text-align: right;\n",
       "    }\n",
       "</style>\n",
       "<table border=\"1\" class=\"dataframe\">\n",
       "  <thead>\n",
       "    <tr style=\"text-align: right;\">\n",
       "      <th></th>\n",
       "      <th>Beneficios Enero ($)</th>\n",
       "      <th>Beneficios Febrero ($)</th>\n",
       "      <th>Beneficios Marzo ($)</th>\n",
       "    </tr>\n",
       "  </thead>\n",
       "  <tbody>\n",
       "    <tr>\n",
       "      <th>0</th>\n",
       "      <td>2500</td>\n",
       "      <td>3000</td>\n",
       "      <td>2900</td>\n",
       "    </tr>\n",
       "    <tr>\n",
       "      <th>1</th>\n",
       "      <td>2650</td>\n",
       "      <td>3225</td>\n",
       "      <td>2700</td>\n",
       "    </tr>\n",
       "    <tr>\n",
       "      <th>2</th>\n",
       "      <td>2740</td>\n",
       "      <td>3000</td>\n",
       "      <td>3400</td>\n",
       "    </tr>\n",
       "    <tr>\n",
       "      <th>3</th>\n",
       "      <td>2500</td>\n",
       "      <td>3100</td>\n",
       "      <td>2700</td>\n",
       "    </tr>\n",
       "  </tbody>\n",
       "</table>\n",
       "</div>"
      ],
      "text/plain": [
       "   Beneficios Enero ($)  Beneficios Febrero ($)  Beneficios Marzo ($)\n",
       "0                  2500                    3000                  2900\n",
       "1                  2650                    3225                  2700\n",
       "2                  2740                    3000                  3400\n",
       "3                  2500                    3100                  2700"
      ]
     },
     "execution_count": 38,
     "metadata": {},
     "output_type": "execute_result"
    }
   ],
   "source": [
    "df_2 = pd.DataFrame({\"Beneficios Enero ($)\": [2500, 2650, 2740, 2500],\n",
    "                     \"Beneficios Febrero ($)\": [3000, 3225, 3000, 3100],\n",
    "                     \"Beneficios Marzo ($)\": [2900, 2700, 3400, 2700]})\n",
    "df_2.head()"
   ]
  },
  {
   "cell_type": "markdown",
   "id": "e0e10faa",
   "metadata": {},
   "source": [
    "**Beneficios Enero**"
   ]
  },
  {
   "cell_type": "code",
   "execution_count": 29,
   "id": "db47d11d",
   "metadata": {},
   "outputs": [
    {
     "name": "stdout",
     "output_type": "stream",
     "text": [
      "Media: 2597.5, Mediana: 2575.0, Moda: \n",
      "0    2500\n",
      "Name: Beneficios Enero ($), dtype: int64\n"
     ]
    }
   ],
   "source": [
    "media_Enero = df_2[\"Beneficios Enero ($)\"].mean()\n",
    "mediana_Enero = df_2[\"Beneficios Enero ($)\"].median()\n",
    "moda_Enero = df_2[\"Beneficios Enero ($)\"].mode()\n",
    "print(f\"Media: {media_Enero}, Mediana: {mediana_Enero}, Moda: \\n{moda_Enero}\")"
   ]
  },
  {
   "cell_type": "code",
   "execution_count": 24,
   "id": "eaa9cff7",
   "metadata": {},
   "outputs": [],
   "source": [
    "enero = df_2[\"Beneficios Enero ($)\"]"
   ]
  },
  {
   "cell_type": "code",
   "execution_count": 25,
   "id": "80f864e1",
   "metadata": {},
   "outputs": [
    {
     "data": {
      "image/png": "[encoded data removed]",
      "text/plain": [
       "<Figure size 504x288 with 1 Axes>"
      ]
     },
     "metadata": {
      "needs_background": "light"
     },
     "output_type": "display_data"
    }
   ],
   "source": [
    "# Histograma + curva normal teórica\n",
    "# =========================================================================================\n",
    "\n",
    "# valores de la media (mu) y desviación típica (sigma) de los datos\n",
    "mu, sigma = stats.norm.fit(enero)\n",
    "\n",
    "# Valores teóricos de la normal en el rango observado\n",
    "x_hat = np.linspace(min(enero), max(enero), num=100)\n",
    "y_hat = stats.norm.pdf(x_hat, mu, sigma)\n",
    "\n",
    "# Gráfico\n",
    "fig, ax = plt.subplots(figsize=(7, 4))\n",
    "ax.plot(x_hat, y_hat, linewidth=2, label=\"normal\")\n",
    "#ax.hist(x=enero, density=True, bins=30, color=\"#3182bd\", alpha=0.5)\n",
    "ax.plot(enero, np.full_like(enero, -0.01), \"|k\", markeredgewidth=1)\n",
    "ax.set_title(\"Distribución Enero\")\n",
    "ax.set_xlabel(\"Valores\")\n",
    "ax.set_ylabel(\"Densidad de probabilidad\")\n",
    "ax.legend()\n",
    "plt.show()"
   ]
  },
  {
   "cell_type": "code",
   "execution_count": 40,
   "id": "32f6fe38",
   "metadata": {},
   "outputs": [],
   "source": [
    "Febrero = df_2[\"Beneficios Febrero ($)\"]\n",
    "Marzo = df_2[\"Beneficios Marzo ($)\"]"
   ]
  },
  {
   "cell_type": "code",
   "execution_count": 41,
   "id": "b229aa48",
   "metadata": {},
   "outputs": [
    {
     "data": {
      "image/png": "[encoded data removed]",
      "text/plain": [
       "<Figure size 504x288 with 1 Axes>"
      ]
     },
     "metadata": {
      "needs_background": "light"
     },
     "output_type": "display_data"
    }
   ],
   "source": [
    "# Histograma + curva normal teórica\n",
    "# =========================================================================================\n",
    "\n",
    "# valores de la media (mu) y desviación típica (sigma) de los datos\n",
    "media, desviacion_tipica = stats.norm.fit(Febrero)\n",
    "\n",
    "# Valores teóricos de la normal en el rango observado\n",
    "x_hat = np.linspace(min(Febrero), max(Febrero), num=100)\n",
    "y_hat = stats.norm.pdf(x_hat, media, desviacion_tipica)\n",
    "\n",
    "# Gráfico\n",
    "fig, ax = plt.subplots(figsize=(7, 4))\n",
    "ax.plot(x_hat, y_hat, linewidth=2, label=\"normal\")\n",
    "#ax.hist(x=Febrero, density=True, bins=30, color=\"#3182bd\", alpha=0.5)\n",
    "ax.plot(Febrero, np.full_like(Febrero, -0.01), \"|k\", markeredgewidth=1)\n",
    "ax.set_title(\"Distribución Febrero\")\n",
    "ax.set_xlabel(\"Valores\")\n",
    "ax.set_ylabel(\"Densidad de probabilidad\")\n",
    "ax.legend()\n",
    "plt.show()"
   ]
  },
  {
   "cell_type": "code",
   "execution_count": 54,
   "id": "9a33045c",
   "metadata": {},
   "outputs": [
    {
     "data": {
      "image/png": "[encoded data removed]",
      "text/plain": [
       "<Figure size 504x288 with 1 Axes>"
      ]
     },
     "metadata": {
      "needs_background": "light"
     },
     "output_type": "display_data"
    },
    {
     "data": {
      "image/png": "[encoded data removed]",
      "text/plain": [
       "<Figure size 504x288 with 1 Axes>"
      ]
     },
     "metadata": {
      "needs_background": "light"
     },
     "output_type": "display_data"
    }
   ],
   "source": [
    "# Histograma + curva normal teórica\n",
    "# =========================================================================================\n",
    "\n",
    "# valores de la media (mu) y desviación típica (sigma) de los datos\n",
    "media, desviacion_tipica = stats.norm.fit(Marzo)\n",
    "#print(media)\n",
    "#print(desviacion_tipica)\n",
    "\n",
    "# Valores teóricos de la normal en el rango observado\n",
    "x_hat = np.linspace(min(Marzo), max(Marzo), num=100)\n",
    "#print(x_hat)\n",
    "y_hat = stats.norm.pdf(x_hat, media, desviacion_tipica)\n",
    "#print(y_hat)\n",
    "\n",
    "media_e, desviacion_tipica_e = stats.norm.fit(enero)\n",
    "#print(media)\n",
    "#print(desviacion_tipica)\n",
    "\n",
    "# Valores teóricos de la normal en el rango observado\n",
    "x_hat_e = np.linspace(min(enero), max(enero), num=100)\n",
    "#print(x_hat)\n",
    "y_hat_e = stats.norm.pdf(x_hat_e, media_e, desviacion_tipica_e)\n",
    "#print(y_hat)\n",
    "\n",
    "media_f, desviacion_tipica_f = stats.norm.fit(Febrero)\n",
    "#print(media)\n",
    "#print(desviacion_tipica)\n",
    "\n",
    "# Valores teóricos de la normal en el rango observado\n",
    "x_hat_f = np.linspace(min(Febrero), max(Febrero), num=100)\n",
    "#print(x_hat)\n",
    "y_hat_f = stats.norm.pdf(x_hat_f, media_f, desviacion_tipica_f)\n",
    "#print(y_hat)\n",
    "\n",
    "\n",
    "\n",
    "# Gráfico\n",
    "fig, ax = plt.subplots(figsize=(7, 4))\n",
    "ax.plot(x_hat, y_hat, linewidth=2, label=\"normal\")\n",
    "ax.plot(x_hat_e, y_hat_e, linewidth=2, label=\"normal\")\n",
    "ax.plot(x_hat_f, y_hat_f, linewidth=2, label=\"normal\")\n",
    "#ax.hist(x=Febrero, density=True, bins=30, color=\"#3182bd\", alpha=0.5)\n",
    "ax.plot(Marzo, np.full_like(Marzo, -0.01), \"|k\", markeredgewidth=1)\n",
    "ax.set_title(\"Distribución Marzo\")\n",
    "ax.set_xlabel(\"Valores\")\n",
    "ax.set_ylabel(\"Densidad de probabilidad\")\n",
    "ax.legend()\n",
    "plt.show\n",
    "\n",
    "fig, axx = plt.subplots(figsize=(7, 4))\n",
    "axx.plot(x_hat, y_hat, linewidth=2, label=\"normal\")\n",
    "#ax.hist(x=Febrero, density=True, bins=30, color=\"#3182bd\", alpha=0.5)\n",
    "#axx.plot(Marzo, np.full_like(Marzo, -0.01), \"|k\", markeredgewidth=1)\n",
    "axx.set_title(\"Distribución Marzo\")\n",
    "axx.set_xlabel(\"Valores\")\n",
    "axx.set_ylabel(\"Densidad de probabilidad\")\n",
    "axx.legend()\n",
    "plt.show()"
   ]
  }
 ],
 "metadata": {
  "kernelspec": {
   "display_name": "Python 3 (ipykernel)",
   "language": "python",
   "name": "python3"
  },
  "language_info": {
   "codemirror_mode": {
    "name": "ipython",
    "version": 3
   },
   "file_extension": ".py",
   "mimetype": "text/x-python",
   "name": "python",
   "nbconvert_exporter": "python",
   "pygments_lexer": "ipython3",
   "version": "3.10.5"
  }
 },
 "nbformat": 4,
 "nbformat_minor": 5
}
